{
 "cells": [
  {
   "cell_type": "markdown",
   "metadata": {},
   "source": [
    "### Watson STT\n",
    "\n",
    "[Demo](https://speech-to-text-demo.ng.bluemix.net/?_ga=2.217141713.693030876.1609788968-299385472.1609788968&cm_mc_uid=14191683397816047653786&cm_mc_sid_50200000=19705671609796523033)   \n",
    "\n",
    "<mark>[API Docs](https://cloud.ibm.com/apidocs/speech-to-text?code=python#recognize)</mark>\n",
    "\n",
    "[Github](https://github.com/watson-developer-cloud/python-sdk/blob/master/examples/speech_to_text_v1.py)"
   ]
  },
  {
   "cell_type": "code",
   "execution_count": 15,
   "metadata": {},
   "outputs": [],
   "source": [
    "# authentication\n",
    "\n",
    "import json\n",
    "from ibm_watson import SpeechToTextV1\n",
    "from ibm_cloud_sdk_core.authenticators import IAMAuthenticator\n",
    "\n",
    "authenticator = IAMAuthenticator(\"hehe\")\n",
    "STT = SpeechToTextV1(authenticator=authenticator)\n",
    "\n",
    "STT.set_service_url(\"https://api.us-south.speech-to-text.watson.cloud.ibm.com/\")"
   ]
  },
  {
   "cell_type": "code",
   "execution_count": 16,
   "metadata": {},
   "outputs": [
    {
     "name": "stdout",
     "output_type": "stream",
     "text": [
      "{\n",
      "    \"name\": \"en-US_BroadbandModel\",\n",
      "    \"rate\": 16000,\n",
      "    \"language\": \"en-US\",\n",
      "    \"description\": \"US English broadband model.\",\n",
      "    \"supported_features\": {\n",
      "        \"custom_language_model\": true,\n",
      "        \"speaker_labels\": true\n",
      "    },\n",
      "    \"url\": \"https://api.us-south.speech-to-text.watson.cloud.ibm.com/instances/6229707b-d9d5-4ef1-a87e-2609e033378d/v1/models/en-US_BroadbandModel\"\n",
      "}\n"
     ]
    }
   ],
   "source": [
    "# get model\n",
    "model = STT.get_model('en-US_BroadbandModel').get_result()\n",
    "print(json.dumps(model, indent=4))"
   ]
  },
  {
   "cell_type": "code",
   "execution_count": 20,
   "metadata": {},
   "outputs": [
    {
     "name": "stdout",
     "output_type": "stream",
     "text": [
      "{\n",
      "  \"result_index\": 0,\n",
      "  \"results\": [\n",
      "    {\n",
      "      \"final\": true,\n",
      "      \"alternatives\": [\n",
      "        {\n",
      "          \"transcript\": \"she is related to him \",\n",
      "          \"confidence\": 0.96\n",
      "        }\n",
      "      ],\n",
      "      \"word_alternatives\": [\n",
      "        {\n",
      "          \"start_time\": 0.37,\n",
      "          \"end_time\": 0.55,\n",
      "          \"alternatives\": [\n",
      "            {\n",
      "              \"word\": \"is\",\n",
      "              \"confidence\": 0.99\n",
      "            }\n",
      "          ]\n",
      "        },\n",
      "        {\n",
      "          \"start_time\": 1.28,\n",
      "          \"end_time\": 1.65,\n",
      "          \"alternatives\": [\n",
      "            {\n",
      "              \"word\": \"him\",\n",
      "              \"confidence\": 0.95\n",
      "            }\n",
      "          ]\n",
      "        }\n",
      "      ]\n",
      "    }\n",
      "  ]\n",
      "}\n"
     ]
    }
   ],
   "source": [
    "# speech recognition\n",
    "\n",
    "with open('test.mp3','rb') as audio_file:\n",
    "    STT_result = STT.recognize(\n",
    "        audio=audio_file,\n",
    "        content_type='audio/mp3',\n",
    "        word_alternatives_threshold=0.9\n",
    "        # keywords=[''],\n",
    "        # keywords_threshold=0.5\n",
    "    ).get_result()\n",
    "print(json.dumps(STT_result, indent=2))"
   ]
  },
  {
   "cell_type": "code",
   "execution_count": null,
   "metadata": {},
   "outputs": [],
   "source": []
  }
 ],
 "metadata": {
  "kernelspec": {
   "display_name": "Python 3",
   "language": "python",
   "name": "python3"
  },
  "language_info": {
   "codemirror_mode": {
    "name": "ipython",
    "version": 3
   },
   "file_extension": ".py",
   "mimetype": "text/x-python",
   "name": "python",
   "nbconvert_exporter": "python",
   "pygments_lexer": "ipython3",
   "version": "3.8.4"
  }
 },
 "nbformat": 4,
 "nbformat_minor": 4
}
