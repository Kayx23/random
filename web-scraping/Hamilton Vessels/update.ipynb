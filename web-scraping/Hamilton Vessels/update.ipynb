{
 "metadata": {
  "language_info": {
   "codemirror_mode": {
    "name": "ipython",
    "version": 3
   },
   "file_extension": ".py",
   "mimetype": "text/x-python",
   "name": "python",
   "nbconvert_exporter": "python",
   "pygments_lexer": "ipython3",
   "version": "3.8.4-final"
  },
  "orig_nbformat": 2,
  "kernelspec": {
   "name": "python3",
   "display_name": "Python 3"
  }
 },
 "nbformat": 4,
 "nbformat_minor": 2,
 "cells": [
  {
   "cell_type": "code",
   "execution_count": 1,
   "metadata": {},
   "outputs": [],
   "source": [
    "import requests\n",
    "from bs4 import BeautifulSoup\n",
    "import pandas as pd\n",
    "import numpy as np"
   ]
  },
  {
   "cell_type": "code",
   "execution_count": 4,
   "metadata": {},
   "outputs": [],
   "source": [
    "vessels_in_port = pd.read_csv('vessels_in_port.csv')"
   ]
  },
  {
   "cell_type": "code",
   "execution_count": 5,
   "metadata": {},
   "outputs": [],
   "source": [
    "# url of the main page\n",
    "url = \"https://www.hopaports.ca/locations/port-of-hamilton/vessel-tracking/\"\n",
    "req = requests.get(url)\n",
    "soup = BeautifulSoup(req.content, \"html.parser\")"
   ]
  },
  {
   "cell_type": "code",
   "execution_count": 6,
   "metadata": {},
   "outputs": [],
   "source": [
    "# get headers\n",
    "header = []\n",
    "tbl_head = soup.find(id=\"vessels-in-port\").select('thead th b')\n",
    "for head in tbl_head:\n",
    "    header.append(head.get_text())  # removes <b></b>"
   ]
  },
  {
   "cell_type": "code",
   "execution_count": 7,
   "metadata": {},
   "outputs": [],
   "source": [
    "# vessels in port, table data\n",
    "tdata = soup.find(id=\"vessels-in-port\").select('td')\n",
    "\n",
    "# strip tag\n",
    "data = []\n",
    "for td in tdata:\n",
    "    data.append(td.get_text())\n",
    "\n",
    "# today's data in a dataframe\n",
    "data_today = pd.DataFrame(np.array(data).reshape(int(len(data)/10),10),columns=header)"
   ]
  },
  {
   "cell_type": "code",
   "execution_count": 10,
   "metadata": {},
   "outputs": [],
   "source": [
    "vessels_in_port = vessels_in_port.append(data_today,ignore_index=True)\n",
    "\n",
    "# remove duplicates\n",
    "vessels_in_port = vessels_in_port.drop_duplicates()"
   ]
  },
  {
   "cell_type": "code",
   "execution_count": 11,
   "metadata": {},
   "outputs": [],
   "source": [
    "vessels_in_port.to_csv('vessels_in_port.csv',index=False)"
   ]
  },
  {
   "cell_type": "code",
   "execution_count": null,
   "metadata": {},
   "outputs": [],
   "source": []
  }
 ]
}