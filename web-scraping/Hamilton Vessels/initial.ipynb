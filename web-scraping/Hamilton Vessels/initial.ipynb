{
 "metadata": {
  "language_info": {
   "codemirror_mode": {
    "name": "ipython",
    "version": 3
   },
   "file_extension": ".py",
   "mimetype": "text/x-python",
   "name": "python",
   "nbconvert_exporter": "python",
   "pygments_lexer": "ipython3",
   "version": "3.8.4-final"
  },
  "orig_nbformat": 2,
  "kernelspec": {
   "name": "python3",
   "display_name": "Python 3"
  }
 },
 "nbformat": 4,
 "nbformat_minor": 2,
 "cells": [
  {
   "cell_type": "code",
   "execution_count": 1,
   "metadata": {},
   "outputs": [],
   "source": [
    "import requests\n",
    "from bs4 import BeautifulSoup\n",
    "import pandas as pd\n",
    "import numpy as np"
   ]
  },
  {
   "cell_type": "code",
   "execution_count": 2,
   "metadata": {},
   "outputs": [],
   "source": [
    "# url of the main page\n",
    "url = \"https://www.hopaports.ca/locations/port-of-hamilton/vessel-tracking/\"\n",
    "req = requests.get(url)\n",
    "soup = BeautifulSoup(req.content, \"html.parser\")"
   ]
  },
  {
   "cell_type": "code",
   "execution_count": 3,
   "metadata": {},
   "outputs": [],
   "source": [
    "# get headers\n",
    "header = []\n",
    "tbl_head = soup.find(id=\"vessels-in-port\").select('thead th b')\n",
    "for head in tbl_head:\n",
    "    header.append(head.get_text())  # removes <b></b>\n",
    "\n",
    "# make an empty dataframe with the headers (first time only)\n",
    "vessels_in_port = pd.DataFrame(columns=header)"
   ]
  },
  {
   "cell_type": "code",
   "execution_count": 4,
   "metadata": {},
   "outputs": [],
   "source": [
    "# vessels in port, table data\n",
    "tdata = soup.find(id=\"vessels-in-port\").select('td')\n",
    "\n",
    "# strip tag\n",
    "data = []\n",
    "for td in tdata:\n",
    "    data.append(td.get_text())\n",
    "\n",
    "# today's data in a dataframe\n",
    "data_today = pd.DataFrame(np.array(data).reshape(int(len(data)/10),10),columns=header)"
   ]
  },
  {
   "cell_type": "code",
   "execution_count": 5,
   "metadata": {},
   "outputs": [
    {
     "output_type": "execute_result",
     "data": {
      "text/plain": [
       "               Vessel Name         Arrival Date                   Berth  \\\n",
       "0          Federal Katsura  Nov 30 2020  1:20PM           12 East - FMT   \n",
       "1           Federal Yukina  Nov 30 2020 11:50AM      12 West  - Sylvite   \n",
       "2         Zelada Desgagnes  Nov 30 2020 10:40AM        25S - Richardson   \n",
       "3            Federal Mosel  Nov 30 2020  2:05AM           25 N - Agrico   \n",
       "4           Algoma Equinox  Nov 29 2020  4:50PM                21 - AMD   \n",
       "5           Federal Hudson  Nov 29 2020 12:30AM           14 West - FMT   \n",
       "6                     Cape  Nov 28 2020  6:55PM                10-5 P&H   \n",
       "7        Ocean A. Gauthier  Nov 21 2020  2:45PM  23 South - Ocean Group   \n",
       "8                     HM 8  Nov 18 2020  7:00PM                     8-3   \n",
       "9                     HM 6  Nov 14 2020 10:55AM                     8-5   \n",
       "10                Everlast  Nov 12 2020  4:40AM        24 W - McAsphalt   \n",
       "11           Norman Mcleod  Nov 12 2020  4:40AM        24 W - McAsphalt   \n",
       "12              Jack-Up 50  Nov  1 2020 12:00AM                    10-9   \n",
       "13             Jack Up 600  Nov  1 2020 12:00AM                    10-9   \n",
       "14             Tony Mackay  Oct 30 2020  1:45PM             16-2 Stelco   \n",
       "15              La Prairie  Sep 22 2020  4:45PM  23 South - Ocean Group   \n",
       "16              M. R. Kane  Sep  9 2020 10:15PM                 15 East   \n",
       "17              Radium 604  Sep  9 2020 10:15PM                 15 East   \n",
       "18                    HM 7  Apr 23 2020  3:05PM                     8-5   \n",
       "19                    HM 9  Mar 19 2020  3:25PM                     8-5   \n",
       "20                    HM 5  Mar  1 2020 12:00AM                     8-5   \n",
       "21            S.M.T.B NO.7  Mar  1 2020 12:00AM                     8-6   \n",
       "22               HM DOCK 1  Mar  1 2020 12:00AM                 14 East   \n",
       "23    Breton Dry Dock NO.1  Mar  1 2020 12:00AM             16-2 Stelco   \n",
       "24  Hamilton Harbour Queen  Mar  1 2020 12:00AM                     8-2   \n",
       "25          James A Hannah  Mar  1 2020 12:00AM             16-2 Stelco   \n",
       "\n",
       "                  Cargo        Imp/Exp     Last Port Last Country  \\\n",
       "0                 Steel         IMPORT        Oshawa       Canada   \n",
       "1                  Urea         IMPORT       Sarroch        Italy   \n",
       "2                 Grain         EXPORT      Montreal       Canada   \n",
       "3                   MAP  IMPORT/EXPORT   Jorf Lasfar      Morocco   \n",
       "4                   Ore         IMPORT  Port Cartier       Canada   \n",
       "5                 Steel         IMPORT       Antwerp      Belgium   \n",
       "6                 Grain         EXPORT     Paranagua       Brazil   \n",
       "7                 Light         LAY-UP      Clarkson       Canada   \n",
       "8      Lay-Up / repairs         LAY-UP       Toronto       Canada   \n",
       "9                   Nil         LAY-UP      Hamilton       Canada   \n",
       "10     Lay-Up / repairs         LAY-UP   Valleyfield       Canada   \n",
       "11     Lay-Up / repairs         LAY-UP   Valleyfield       Canada   \n",
       "12     Lay-Up / repairs         LAY-UP      Hamilton       Canada   \n",
       "13     Lay-Up / repairs         LAY-UP      Hamilton       Canada   \n",
       "14             Lay Over         LAY-UP      Hamilton       Canada   \n",
       "15                Light         LAY-UP        Oshawa       Canada   \n",
       "16  Randal Reef Project         LAY-UP       Toronto       Canada   \n",
       "17  Randal Reef Project         LAY-UP       Toronto       Canada   \n",
       "18             Lay Over         LAY-UP       Toronto       Canada   \n",
       "19                  Nil         LAY-UP      Hamilton       Canada   \n",
       "20     Lay-Up / repairs         LAY-UP      Hamilton       Canada   \n",
       "21                  Nil         LAY-UP      Hamilton       Canada   \n",
       "22                  Nil         LAY-UP      Hamilton       Canada   \n",
       "23                  Nil         LAY-UP      Hamilton       Canada   \n",
       "24                  Nil         LAY-UP      Hamilton       Canada   \n",
       "25     Lay-Up / repairs         LAY-UP      Hamilton       Canada   \n",
       "\n",
       "        Next Port Next Country                          Agent  \n",
       "0          Duluth          USA                  Robert Reford  \n",
       "1           Ghent      Belgium                    Gresco Ltee  \n",
       "2         Unknown     Overseas            World Shipping Inc.  \n",
       "3         Unknown     Overseas                    Gresco Ltee  \n",
       "4         Unknown       Canada            Algoma Central Corp  \n",
       "5   Port Colborne       Canada                  Robert Reford  \n",
       "6         Unknown     Overseas                    Gresco Ltee  \n",
       "7         Unknown       Canada      Ocean Ontario Towing Inc.  \n",
       "8         Toronto       Canada          McKeil Marine Limited  \n",
       "9        Hamilton       Canada    Heddle Marine Services Inc.  \n",
       "10        Unknown      Unknown      McAsphalt Industries Ltd.  \n",
       "11        Unknown      Unknown      McAsphalt Industries Ltd.  \n",
       "12       Hamilton       Canada          McKeil Marine Limited  \n",
       "13       Hamilton       Canada          McKeil Marine Limited  \n",
       "14       Hamilton       Canada    Heddle Marine Services Inc.  \n",
       "15        Unknown       Canada      Ocean Ontario Towing Inc.  \n",
       "16        Toronto       Canada        Toronto Drydock Limited  \n",
       "17        Toronto       Canada        Toronto Drydock Limited  \n",
       "18        Unknown       Canada    Heddle Marine Services Inc.  \n",
       "19       Hamilton       Canada    Heddle Marine Services Inc.  \n",
       "20       Hamilton       Canada    Heddle Marine Services Inc.  \n",
       "21       Hamilton       Canada    Heddle Marine Services Inc.  \n",
       "22       Hamilton       Canada    Heddle Marine Services Inc.  \n",
       "23       Hamilton       Canada    Heddle Marine Services Inc.  \n",
       "24       Hamilton       Canada  Elko Industrial Trading Corp.  \n",
       "25       Hamilton       Canada    Heddle Marine Services Inc.  "
      ],
      "text/html": "<div>\n<style scoped>\n    .dataframe tbody tr th:only-of-type {\n        vertical-align: middle;\n    }\n\n    .dataframe tbody tr th {\n        vertical-align: top;\n    }\n\n    .dataframe thead th {\n        text-align: right;\n    }\n</style>\n<table border=\"1\" class=\"dataframe\">\n  <thead>\n    <tr style=\"text-align: right;\">\n      <th></th>\n      <th>Vessel Name</th>\n      <th>Arrival Date</th>\n      <th>Berth</th>\n      <th>Cargo</th>\n      <th>Imp/Exp</th>\n      <th>Last Port</th>\n      <th>Last Country</th>\n      <th>Next Port</th>\n      <th>Next Country</th>\n      <th>Agent</th>\n    </tr>\n  </thead>\n  <tbody>\n    <tr>\n      <th>0</th>\n      <td>Federal Katsura</td>\n      <td>Nov 30 2020  1:20PM</td>\n      <td>12 East - FMT</td>\n      <td>Steel</td>\n      <td>IMPORT</td>\n      <td>Oshawa</td>\n      <td>Canada</td>\n      <td>Duluth</td>\n      <td>USA</td>\n      <td>Robert Reford</td>\n    </tr>\n    <tr>\n      <th>1</th>\n      <td>Federal Yukina</td>\n      <td>Nov 30 2020 11:50AM</td>\n      <td>12 West  - Sylvite</td>\n      <td>Urea</td>\n      <td>IMPORT</td>\n      <td>Sarroch</td>\n      <td>Italy</td>\n      <td>Ghent</td>\n      <td>Belgium</td>\n      <td>Gresco Ltee</td>\n    </tr>\n    <tr>\n      <th>2</th>\n      <td>Zelada Desgagnes</td>\n      <td>Nov 30 2020 10:40AM</td>\n      <td>25S - Richardson</td>\n      <td>Grain</td>\n      <td>EXPORT</td>\n      <td>Montreal</td>\n      <td>Canada</td>\n      <td>Unknown</td>\n      <td>Overseas</td>\n      <td>World Shipping Inc.</td>\n    </tr>\n    <tr>\n      <th>3</th>\n      <td>Federal Mosel</td>\n      <td>Nov 30 2020  2:05AM</td>\n      <td>25 N - Agrico</td>\n      <td>MAP</td>\n      <td>IMPORT/EXPORT</td>\n      <td>Jorf Lasfar</td>\n      <td>Morocco</td>\n      <td>Unknown</td>\n      <td>Overseas</td>\n      <td>Gresco Ltee</td>\n    </tr>\n    <tr>\n      <th>4</th>\n      <td>Algoma Equinox</td>\n      <td>Nov 29 2020  4:50PM</td>\n      <td>21 - AMD</td>\n      <td>Ore</td>\n      <td>IMPORT</td>\n      <td>Port Cartier</td>\n      <td>Canada</td>\n      <td>Unknown</td>\n      <td>Canada</td>\n      <td>Algoma Central Corp</td>\n    </tr>\n    <tr>\n      <th>5</th>\n      <td>Federal Hudson</td>\n      <td>Nov 29 2020 12:30AM</td>\n      <td>14 West - FMT</td>\n      <td>Steel</td>\n      <td>IMPORT</td>\n      <td>Antwerp</td>\n      <td>Belgium</td>\n      <td>Port Colborne</td>\n      <td>Canada</td>\n      <td>Robert Reford</td>\n    </tr>\n    <tr>\n      <th>6</th>\n      <td>Cape</td>\n      <td>Nov 28 2020  6:55PM</td>\n      <td>10-5 P&amp;H</td>\n      <td>Grain</td>\n      <td>EXPORT</td>\n      <td>Paranagua</td>\n      <td>Brazil</td>\n      <td>Unknown</td>\n      <td>Overseas</td>\n      <td>Gresco Ltee</td>\n    </tr>\n    <tr>\n      <th>7</th>\n      <td>Ocean A. Gauthier</td>\n      <td>Nov 21 2020  2:45PM</td>\n      <td>23 South - Ocean Group</td>\n      <td>Light</td>\n      <td>LAY-UP</td>\n      <td>Clarkson</td>\n      <td>Canada</td>\n      <td>Unknown</td>\n      <td>Canada</td>\n      <td>Ocean Ontario Towing Inc.</td>\n    </tr>\n    <tr>\n      <th>8</th>\n      <td>HM 8</td>\n      <td>Nov 18 2020  7:00PM</td>\n      <td>8-3</td>\n      <td>Lay-Up / repairs</td>\n      <td>LAY-UP</td>\n      <td>Toronto</td>\n      <td>Canada</td>\n      <td>Toronto</td>\n      <td>Canada</td>\n      <td>McKeil Marine Limited</td>\n    </tr>\n    <tr>\n      <th>9</th>\n      <td>HM 6</td>\n      <td>Nov 14 2020 10:55AM</td>\n      <td>8-5</td>\n      <td>Nil</td>\n      <td>LAY-UP</td>\n      <td>Hamilton</td>\n      <td>Canada</td>\n      <td>Hamilton</td>\n      <td>Canada</td>\n      <td>Heddle Marine Services Inc.</td>\n    </tr>\n    <tr>\n      <th>10</th>\n      <td>Everlast</td>\n      <td>Nov 12 2020  4:40AM</td>\n      <td>24 W - McAsphalt</td>\n      <td>Lay-Up / repairs</td>\n      <td>LAY-UP</td>\n      <td>Valleyfield</td>\n      <td>Canada</td>\n      <td>Unknown</td>\n      <td>Unknown</td>\n      <td>McAsphalt Industries Ltd.</td>\n    </tr>\n    <tr>\n      <th>11</th>\n      <td>Norman Mcleod</td>\n      <td>Nov 12 2020  4:40AM</td>\n      <td>24 W - McAsphalt</td>\n      <td>Lay-Up / repairs</td>\n      <td>LAY-UP</td>\n      <td>Valleyfield</td>\n      <td>Canada</td>\n      <td>Unknown</td>\n      <td>Unknown</td>\n      <td>McAsphalt Industries Ltd.</td>\n    </tr>\n    <tr>\n      <th>12</th>\n      <td>Jack-Up 50</td>\n      <td>Nov  1 2020 12:00AM</td>\n      <td>10-9</td>\n      <td>Lay-Up / repairs</td>\n      <td>LAY-UP</td>\n      <td>Hamilton</td>\n      <td>Canada</td>\n      <td>Hamilton</td>\n      <td>Canada</td>\n      <td>McKeil Marine Limited</td>\n    </tr>\n    <tr>\n      <th>13</th>\n      <td>Jack Up 600</td>\n      <td>Nov  1 2020 12:00AM</td>\n      <td>10-9</td>\n      <td>Lay-Up / repairs</td>\n      <td>LAY-UP</td>\n      <td>Hamilton</td>\n      <td>Canada</td>\n      <td>Hamilton</td>\n      <td>Canada</td>\n      <td>McKeil Marine Limited</td>\n    </tr>\n    <tr>\n      <th>14</th>\n      <td>Tony Mackay</td>\n      <td>Oct 30 2020  1:45PM</td>\n      <td>16-2 Stelco</td>\n      <td>Lay Over</td>\n      <td>LAY-UP</td>\n      <td>Hamilton</td>\n      <td>Canada</td>\n      <td>Hamilton</td>\n      <td>Canada</td>\n      <td>Heddle Marine Services Inc.</td>\n    </tr>\n    <tr>\n      <th>15</th>\n      <td>La Prairie</td>\n      <td>Sep 22 2020  4:45PM</td>\n      <td>23 South - Ocean Group</td>\n      <td>Light</td>\n      <td>LAY-UP</td>\n      <td>Oshawa</td>\n      <td>Canada</td>\n      <td>Unknown</td>\n      <td>Canada</td>\n      <td>Ocean Ontario Towing Inc.</td>\n    </tr>\n    <tr>\n      <th>16</th>\n      <td>M. R. Kane</td>\n      <td>Sep  9 2020 10:15PM</td>\n      <td>15 East</td>\n      <td>Randal Reef Project</td>\n      <td>LAY-UP</td>\n      <td>Toronto</td>\n      <td>Canada</td>\n      <td>Toronto</td>\n      <td>Canada</td>\n      <td>Toronto Drydock Limited</td>\n    </tr>\n    <tr>\n      <th>17</th>\n      <td>Radium 604</td>\n      <td>Sep  9 2020 10:15PM</td>\n      <td>15 East</td>\n      <td>Randal Reef Project</td>\n      <td>LAY-UP</td>\n      <td>Toronto</td>\n      <td>Canada</td>\n      <td>Toronto</td>\n      <td>Canada</td>\n      <td>Toronto Drydock Limited</td>\n    </tr>\n    <tr>\n      <th>18</th>\n      <td>HM 7</td>\n      <td>Apr 23 2020  3:05PM</td>\n      <td>8-5</td>\n      <td>Lay Over</td>\n      <td>LAY-UP</td>\n      <td>Toronto</td>\n      <td>Canada</td>\n      <td>Unknown</td>\n      <td>Canada</td>\n      <td>Heddle Marine Services Inc.</td>\n    </tr>\n    <tr>\n      <th>19</th>\n      <td>HM 9</td>\n      <td>Mar 19 2020  3:25PM</td>\n      <td>8-5</td>\n      <td>Nil</td>\n      <td>LAY-UP</td>\n      <td>Hamilton</td>\n      <td>Canada</td>\n      <td>Hamilton</td>\n      <td>Canada</td>\n      <td>Heddle Marine Services Inc.</td>\n    </tr>\n    <tr>\n      <th>20</th>\n      <td>HM 5</td>\n      <td>Mar  1 2020 12:00AM</td>\n      <td>8-5</td>\n      <td>Lay-Up / repairs</td>\n      <td>LAY-UP</td>\n      <td>Hamilton</td>\n      <td>Canada</td>\n      <td>Hamilton</td>\n      <td>Canada</td>\n      <td>Heddle Marine Services Inc.</td>\n    </tr>\n    <tr>\n      <th>21</th>\n      <td>S.M.T.B NO.7</td>\n      <td>Mar  1 2020 12:00AM</td>\n      <td>8-6</td>\n      <td>Nil</td>\n      <td>LAY-UP</td>\n      <td>Hamilton</td>\n      <td>Canada</td>\n      <td>Hamilton</td>\n      <td>Canada</td>\n      <td>Heddle Marine Services Inc.</td>\n    </tr>\n    <tr>\n      <th>22</th>\n      <td>HM DOCK 1</td>\n      <td>Mar  1 2020 12:00AM</td>\n      <td>14 East</td>\n      <td>Nil</td>\n      <td>LAY-UP</td>\n      <td>Hamilton</td>\n      <td>Canada</td>\n      <td>Hamilton</td>\n      <td>Canada</td>\n      <td>Heddle Marine Services Inc.</td>\n    </tr>\n    <tr>\n      <th>23</th>\n      <td>Breton Dry Dock NO.1</td>\n      <td>Mar  1 2020 12:00AM</td>\n      <td>16-2 Stelco</td>\n      <td>Nil</td>\n      <td>LAY-UP</td>\n      <td>Hamilton</td>\n      <td>Canada</td>\n      <td>Hamilton</td>\n      <td>Canada</td>\n      <td>Heddle Marine Services Inc.</td>\n    </tr>\n    <tr>\n      <th>24</th>\n      <td>Hamilton Harbour Queen</td>\n      <td>Mar  1 2020 12:00AM</td>\n      <td>8-2</td>\n      <td>Nil</td>\n      <td>LAY-UP</td>\n      <td>Hamilton</td>\n      <td>Canada</td>\n      <td>Hamilton</td>\n      <td>Canada</td>\n      <td>Elko Industrial Trading Corp.</td>\n    </tr>\n    <tr>\n      <th>25</th>\n      <td>James A Hannah</td>\n      <td>Mar  1 2020 12:00AM</td>\n      <td>16-2 Stelco</td>\n      <td>Lay-Up / repairs</td>\n      <td>LAY-UP</td>\n      <td>Hamilton</td>\n      <td>Canada</td>\n      <td>Hamilton</td>\n      <td>Canada</td>\n      <td>Heddle Marine Services Inc.</td>\n    </tr>\n  </tbody>\n</table>\n</div>"
     },
     "metadata": {},
     "execution_count": 5
    }
   ],
   "source": [
    "vessels_in_port = vessels_in_port.append(data_today,ignore_index=True)\n",
    "vessels_in_port"
   ]
  },
  {
   "cell_type": "code",
   "execution_count": 6,
   "metadata": {},
   "outputs": [],
   "source": [
    "vessels_in_port.to_csv('vessels_in_port.csv',index=False)"
   ]
  },
  {
   "cell_type": "code",
   "execution_count": null,
   "metadata": {},
   "outputs": [],
   "source": []
  }
 ]
}